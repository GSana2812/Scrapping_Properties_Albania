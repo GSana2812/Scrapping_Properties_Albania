{
 "cells": [
  {
   "cell_type": "code",
   "execution_count": 3,
   "outputs": [],
   "source": [
    "import tomli\n",
    "from src.scraper import Scraper"
   ],
   "metadata": {
    "collapsed": false,
    "ExecuteTime": {
     "end_time": "2023-11-28T07:33:19.054789Z",
     "start_time": "2023-11-28T07:33:18.919260Z"
    }
   }
  },
  {
   "cell_type": "code",
   "execution_count": 4,
   "outputs": [],
   "source": [
    "# load config.toml\n",
    "def load_config(filename):\n",
    "    with open(filename, 'rb') as file:\n",
    "        config = tomli.load(file)\n",
    "    return config"
   ],
   "metadata": {
    "collapsed": false,
    "ExecuteTime": {
     "end_time": "2023-11-28T07:33:19.769642Z",
     "start_time": "2023-11-28T07:33:19.763475Z"
    }
   }
  },
  {
   "cell_type": "code",
   "execution_count": 5,
   "outputs": [],
   "source": [
    "config = load_config('../config.toml')"
   ],
   "metadata": {
    "collapsed": false,
    "ExecuteTime": {
     "end_time": "2023-11-28T07:33:20.158725Z",
     "start_time": "2023-11-28T07:33:20.150919Z"
    }
   }
  },
  {
   "cell_type": "code",
   "execution_count": 6,
   "outputs": [],
   "source": [
    "# Loading all functionalities of the Scraper class\n",
    "\n",
    "scraper = Scraper()\n",
    "scraper.load_webpage(config['path']['url'])"
   ],
   "metadata": {
    "collapsed": false,
    "ExecuteTime": {
     "end_time": "2023-11-28T07:33:24.695528Z",
     "start_time": "2023-11-28T07:33:20.224153Z"
    }
   }
  },
  {
   "cell_type": "code",
   "execution_count": 7,
   "outputs": [],
   "source": [
    "# Returning all the elements necessary for building the dataframe\n",
    "\n",
    "all_paragraphs, all_headings, all_locations = scraper.return_all()"
   ],
   "metadata": {
    "collapsed": false,
    "ExecuteTime": {
     "end_time": "2023-11-27T21:47:12.135379Z",
     "start_time": "2023-11-27T21:30:03.514597Z"
    }
   }
  },
  {
   "cell_type": "code",
   "execution_count": 8,
   "outputs": [],
   "source": [
    "# Storing the results inside a dictionary, so we can store them inside a dataframe\n",
    "\n",
    "dict_final_results = scraper(all_paragraphs, all_headings, all_locations)"
   ],
   "metadata": {
    "collapsed": false,
    "ExecuteTime": {
     "end_time": "2023-11-27T21:47:34.013913Z",
     "start_time": "2023-11-27T21:47:32.797075Z"
    }
   }
  },
  {
   "cell_type": "code",
   "execution_count": 19,
   "outputs": [
    {
     "name": "stdout",
     "output_type": "stream",
     "text": [
      "2648\n"
     ]
    }
   ],
   "source": [
    "price = [price for price in dict_final_results['Price'] if price is not None]\n",
    "print(len(price))"
   ],
   "metadata": {
    "collapsed": false,
    "ExecuteTime": {
     "end_time": "2023-11-27T21:52:35.410791Z",
     "start_time": "2023-11-27T21:52:35.404187Z"
    }
   }
  },
  {
   "cell_type": "code",
   "execution_count": 9,
   "outputs": [],
   "source": [
    "import pandas as pd\n",
    "\n",
    "# Building the dataframe and loading the data in a csv file\n",
    "\n",
    "df = pd.DataFrame.from_dict(dict_final_results, orient = \"index\")\n",
    "df = df.transpose()\n",
    "df.to_csv('../data/initial_data_real_estate.csv')"
   ],
   "metadata": {
    "collapsed": false,
    "ExecuteTime": {
     "end_time": "2023-11-27T21:47:36.610834Z",
     "start_time": "2023-11-27T21:47:35.980986Z"
    }
   }
  },
  {
   "cell_type": "code",
   "execution_count": 7,
   "outputs": [],
   "source": [
    "# Doing configurations to further import other libraries within our src package\n",
    "\n",
    "import sys\n",
    "import os\n",
    "sys.path.append(config['path']['path_name'])\n",
    "os.chdir(config['path']['path_name'])"
   ],
   "metadata": {
    "collapsed": false,
    "ExecuteTime": {
     "end_time": "2023-11-28T07:33:27.628513Z",
     "start_time": "2023-11-28T07:33:27.619248Z"
    }
   }
  }
 ],
 "metadata": {
  "kernelspec": {
   "name": "regression",
   "language": "python",
   "display_name": "regression"
  },
  "language_info": {
   "codemirror_mode": {
    "name": "ipython",
    "version": 2
   },
   "file_extension": ".py",
   "mimetype": "text/x-python",
   "name": "python",
   "nbconvert_exporter": "python",
   "pygments_lexer": "ipython2",
   "version": "2.7.6"
  }
 },
 "nbformat": 4,
 "nbformat_minor": 0
}
