{
 "cells": [
  {
   "cell_type": "code",
   "execution_count": 5,
   "outputs": [],
   "source": [
    "# Performing some cleaning of the data, so the database can be ready to be explored\n",
    "from src.preparation import Wrangling\n",
    "import pandas as pd\n",
    "import warnings\n",
    "warnings.filterwarnings('ignore')"
   ],
   "metadata": {
    "collapsed": false,
    "ExecuteTime": {
     "end_time": "2023-12-03T19:11:56.059879Z",
     "start_time": "2023-12-03T19:11:56.039672Z"
    }
   }
  },
  {
   "cell_type": "code",
   "execution_count": 6,
   "outputs": [],
   "source": [
    "df = pd.read_csv('../data/initial_data_real_estate.csv')"
   ],
   "metadata": {
    "collapsed": false,
    "ExecuteTime": {
     "end_time": "2023-12-03T19:11:57.162984Z",
     "start_time": "2023-12-03T19:11:57.143485Z"
    }
   }
  },
  {
   "cell_type": "code",
   "execution_count": 7,
   "outputs": [
    {
     "data": {
      "text/plain": "      Unnamed: 0 Gross Area Interior Area  Bedrooms  Baths  Floor  \\\n0              0   96.78 m2      96.78 m2       2.0    2.0    5.0   \n1              1      86 m2         68 m2       2.0    2.0    5.0   \n2              2     197 m2        157 m2       2.0    2.0    5.0   \n3              3     178 m2        141 m2       2.0    2.0    5.0   \n4              4     182 m2        145 m2       1.0    1.0    1.0   \n...          ...        ...           ...       ...    ...    ...   \n6352        6352    1104 m2       1104 m2       NaN    NaN    NaN   \n6353        6353      91 m2         38 m2       NaN    NaN    NaN   \n6354        6354     180 m2         84 m2       NaN    NaN    NaN   \n6355        6355      85 m2         66 m2       NaN    NaN    NaN   \n6356        6356      76 m2         58 m2       NaN    NaN    NaN   \n\n                     Type               Status    Price    City  \n0                Parking                  New   150,000  Tirana  \n1              Apartment   Under Construction    26,000  Tirana  \n2              Apartment   Under Construction   170,000  Tirana  \n3              Apartment   Under Construction    57,000  Tirana  \n4              Apartment   Under Construction    50,000  Tirana  \n...                   ...                  ...      ...     ...  \n6352                Land                 Used       NaN  Tirana  \n6353           Apartment   Under Construction       NaN  Himarë  \n6354           Apartment   Under Construction       NaN  Himarë  \n6355  Multipurpose space                 Used       NaN  Tirana  \n6356  Multipurpose space                 Used       NaN  Tirana  \n\n[6357 rows x 10 columns]",
      "text/html": "<div>\n<style scoped>\n    .dataframe tbody tr th:only-of-type {\n        vertical-align: middle;\n    }\n\n    .dataframe tbody tr th {\n        vertical-align: top;\n    }\n\n    .dataframe thead th {\n        text-align: right;\n    }\n</style>\n<table border=\"1\" class=\"dataframe\">\n  <thead>\n    <tr style=\"text-align: right;\">\n      <th></th>\n      <th>Unnamed: 0</th>\n      <th>Gross Area</th>\n      <th>Interior Area</th>\n      <th>Bedrooms</th>\n      <th>Baths</th>\n      <th>Floor</th>\n      <th>Type</th>\n      <th>Status</th>\n      <th>Price</th>\n      <th>City</th>\n    </tr>\n  </thead>\n  <tbody>\n    <tr>\n      <th>0</th>\n      <td>0</td>\n      <td>96.78 m2</td>\n      <td>96.78 m2</td>\n      <td>2.0</td>\n      <td>2.0</td>\n      <td>5.0</td>\n      <td>Parking</td>\n      <td>New</td>\n      <td>150,000</td>\n      <td>Tirana</td>\n    </tr>\n    <tr>\n      <th>1</th>\n      <td>1</td>\n      <td>86 m2</td>\n      <td>68 m2</td>\n      <td>2.0</td>\n      <td>2.0</td>\n      <td>5.0</td>\n      <td>Apartment</td>\n      <td>Under Construction</td>\n      <td>26,000</td>\n      <td>Tirana</td>\n    </tr>\n    <tr>\n      <th>2</th>\n      <td>2</td>\n      <td>197 m2</td>\n      <td>157 m2</td>\n      <td>2.0</td>\n      <td>2.0</td>\n      <td>5.0</td>\n      <td>Apartment</td>\n      <td>Under Construction</td>\n      <td>170,000</td>\n      <td>Tirana</td>\n    </tr>\n    <tr>\n      <th>3</th>\n      <td>3</td>\n      <td>178 m2</td>\n      <td>141 m2</td>\n      <td>2.0</td>\n      <td>2.0</td>\n      <td>5.0</td>\n      <td>Apartment</td>\n      <td>Under Construction</td>\n      <td>57,000</td>\n      <td>Tirana</td>\n    </tr>\n    <tr>\n      <th>4</th>\n      <td>4</td>\n      <td>182 m2</td>\n      <td>145 m2</td>\n      <td>1.0</td>\n      <td>1.0</td>\n      <td>1.0</td>\n      <td>Apartment</td>\n      <td>Under Construction</td>\n      <td>50,000</td>\n      <td>Tirana</td>\n    </tr>\n    <tr>\n      <th>...</th>\n      <td>...</td>\n      <td>...</td>\n      <td>...</td>\n      <td>...</td>\n      <td>...</td>\n      <td>...</td>\n      <td>...</td>\n      <td>...</td>\n      <td>...</td>\n      <td>...</td>\n    </tr>\n    <tr>\n      <th>6352</th>\n      <td>6352</td>\n      <td>1104 m2</td>\n      <td>1104 m2</td>\n      <td>NaN</td>\n      <td>NaN</td>\n      <td>NaN</td>\n      <td>Land</td>\n      <td>Used</td>\n      <td>NaN</td>\n      <td>Tirana</td>\n    </tr>\n    <tr>\n      <th>6353</th>\n      <td>6353</td>\n      <td>91 m2</td>\n      <td>38 m2</td>\n      <td>NaN</td>\n      <td>NaN</td>\n      <td>NaN</td>\n      <td>Apartment</td>\n      <td>Under Construction</td>\n      <td>NaN</td>\n      <td>Himarë</td>\n    </tr>\n    <tr>\n      <th>6354</th>\n      <td>6354</td>\n      <td>180 m2</td>\n      <td>84 m2</td>\n      <td>NaN</td>\n      <td>NaN</td>\n      <td>NaN</td>\n      <td>Apartment</td>\n      <td>Under Construction</td>\n      <td>NaN</td>\n      <td>Himarë</td>\n    </tr>\n    <tr>\n      <th>6355</th>\n      <td>6355</td>\n      <td>85 m2</td>\n      <td>66 m2</td>\n      <td>NaN</td>\n      <td>NaN</td>\n      <td>NaN</td>\n      <td>Multipurpose space</td>\n      <td>Used</td>\n      <td>NaN</td>\n      <td>Tirana</td>\n    </tr>\n    <tr>\n      <th>6356</th>\n      <td>6356</td>\n      <td>76 m2</td>\n      <td>58 m2</td>\n      <td>NaN</td>\n      <td>NaN</td>\n      <td>NaN</td>\n      <td>Multipurpose space</td>\n      <td>Used</td>\n      <td>NaN</td>\n      <td>Tirana</td>\n    </tr>\n  </tbody>\n</table>\n<p>6357 rows × 10 columns</p>\n</div>"
     },
     "execution_count": 7,
     "metadata": {},
     "output_type": "execute_result"
    }
   ],
   "source": [
    "df"
   ],
   "metadata": {
    "collapsed": false,
    "ExecuteTime": {
     "end_time": "2023-12-03T19:11:57.515608Z",
     "start_time": "2023-12-03T19:11:57.471601Z"
    }
   }
  },
  {
   "cell_type": "code",
   "execution_count": 8,
   "outputs": [],
   "source": [
    "df = Wrangling.drop_unnamed_col(df, 'Unnamed: 0')\n",
    "df_non_null = Wrangling.obtain_non_null_rows(df,'Price')\n",
    "Wrangling.format_columns(df_non_null, 'Gross Area')\n",
    "Wrangling.format_columns(df_non_null, 'Interior Area')\n",
    "Wrangling.format_columns(df_non_null, 'Price')"
   ],
   "metadata": {
    "collapsed": false,
    "ExecuteTime": {
     "end_time": "2023-12-03T19:11:58.240262Z",
     "start_time": "2023-12-03T19:11:58.177451Z"
    }
   }
  },
  {
   "cell_type": "code",
   "execution_count": 9,
   "outputs": [
    {
     "data": {
      "text/plain": "      Gross Area  Interior Area  Bedrooms  Baths  Floor                 Type  \\\n0          96.78          96.78       2.0    2.0    5.0             Parking    \n1          86.00          68.00       2.0    2.0    5.0           Apartment    \n2         197.00         157.00       2.0    2.0    5.0           Apartment    \n3         178.00         141.00       2.0    2.0    5.0           Apartment    \n4         182.00         145.00       1.0    1.0    1.0           Apartment    \n...          ...            ...       ...    ...    ...                  ...   \n2643      178.00         141.00       1.0    2.0    5.0           Apartment    \n2644      182.00         145.00       1.0    1.0    1.0           Apartment    \n2645      168.00          72.00       2.0    1.0    2.0           Apartment    \n2646       39.00          30.00       2.0    1.0    1.0  Multipurpose space    \n2647     1104.00        1104.00       2.0    1.0    1.0                Land    \n\n                   Status     Price    City  \n0                    New   150000.0  Tirana  \n1     Under Construction    26000.0  Tirana  \n2     Under Construction   170000.0  Tirana  \n3     Under Construction    57000.0  Tirana  \n4     Under Construction    50000.0  Tirana  \n...                   ...       ...     ...  \n2643  Under Construction   150000.0  Tirana  \n2644  Under Construction    26000.0  Tirana  \n2645  Under Construction   170000.0  Himarë  \n2646                Used    57000.0  Tirana  \n2647                Used    50000.0  Tirana  \n\n[2648 rows x 9 columns]",
      "text/html": "<div>\n<style scoped>\n    .dataframe tbody tr th:only-of-type {\n        vertical-align: middle;\n    }\n\n    .dataframe tbody tr th {\n        vertical-align: top;\n    }\n\n    .dataframe thead th {\n        text-align: right;\n    }\n</style>\n<table border=\"1\" class=\"dataframe\">\n  <thead>\n    <tr style=\"text-align: right;\">\n      <th></th>\n      <th>Gross Area</th>\n      <th>Interior Area</th>\n      <th>Bedrooms</th>\n      <th>Baths</th>\n      <th>Floor</th>\n      <th>Type</th>\n      <th>Status</th>\n      <th>Price</th>\n      <th>City</th>\n    </tr>\n  </thead>\n  <tbody>\n    <tr>\n      <th>0</th>\n      <td>96.78</td>\n      <td>96.78</td>\n      <td>2.0</td>\n      <td>2.0</td>\n      <td>5.0</td>\n      <td>Parking</td>\n      <td>New</td>\n      <td>150000.0</td>\n      <td>Tirana</td>\n    </tr>\n    <tr>\n      <th>1</th>\n      <td>86.00</td>\n      <td>68.00</td>\n      <td>2.0</td>\n      <td>2.0</td>\n      <td>5.0</td>\n      <td>Apartment</td>\n      <td>Under Construction</td>\n      <td>26000.0</td>\n      <td>Tirana</td>\n    </tr>\n    <tr>\n      <th>2</th>\n      <td>197.00</td>\n      <td>157.00</td>\n      <td>2.0</td>\n      <td>2.0</td>\n      <td>5.0</td>\n      <td>Apartment</td>\n      <td>Under Construction</td>\n      <td>170000.0</td>\n      <td>Tirana</td>\n    </tr>\n    <tr>\n      <th>3</th>\n      <td>178.00</td>\n      <td>141.00</td>\n      <td>2.0</td>\n      <td>2.0</td>\n      <td>5.0</td>\n      <td>Apartment</td>\n      <td>Under Construction</td>\n      <td>57000.0</td>\n      <td>Tirana</td>\n    </tr>\n    <tr>\n      <th>4</th>\n      <td>182.00</td>\n      <td>145.00</td>\n      <td>1.0</td>\n      <td>1.0</td>\n      <td>1.0</td>\n      <td>Apartment</td>\n      <td>Under Construction</td>\n      <td>50000.0</td>\n      <td>Tirana</td>\n    </tr>\n    <tr>\n      <th>...</th>\n      <td>...</td>\n      <td>...</td>\n      <td>...</td>\n      <td>...</td>\n      <td>...</td>\n      <td>...</td>\n      <td>...</td>\n      <td>...</td>\n      <td>...</td>\n    </tr>\n    <tr>\n      <th>2643</th>\n      <td>178.00</td>\n      <td>141.00</td>\n      <td>1.0</td>\n      <td>2.0</td>\n      <td>5.0</td>\n      <td>Apartment</td>\n      <td>Under Construction</td>\n      <td>150000.0</td>\n      <td>Tirana</td>\n    </tr>\n    <tr>\n      <th>2644</th>\n      <td>182.00</td>\n      <td>145.00</td>\n      <td>1.0</td>\n      <td>1.0</td>\n      <td>1.0</td>\n      <td>Apartment</td>\n      <td>Under Construction</td>\n      <td>26000.0</td>\n      <td>Tirana</td>\n    </tr>\n    <tr>\n      <th>2645</th>\n      <td>168.00</td>\n      <td>72.00</td>\n      <td>2.0</td>\n      <td>1.0</td>\n      <td>2.0</td>\n      <td>Apartment</td>\n      <td>Under Construction</td>\n      <td>170000.0</td>\n      <td>Himarë</td>\n    </tr>\n    <tr>\n      <th>2646</th>\n      <td>39.00</td>\n      <td>30.00</td>\n      <td>2.0</td>\n      <td>1.0</td>\n      <td>1.0</td>\n      <td>Multipurpose space</td>\n      <td>Used</td>\n      <td>57000.0</td>\n      <td>Tirana</td>\n    </tr>\n    <tr>\n      <th>2647</th>\n      <td>1104.00</td>\n      <td>1104.00</td>\n      <td>2.0</td>\n      <td>1.0</td>\n      <td>1.0</td>\n      <td>Land</td>\n      <td>Used</td>\n      <td>50000.0</td>\n      <td>Tirana</td>\n    </tr>\n  </tbody>\n</table>\n<p>2648 rows × 9 columns</p>\n</div>"
     },
     "execution_count": 9,
     "metadata": {},
     "output_type": "execute_result"
    }
   ],
   "source": [
    "df_non_null"
   ],
   "metadata": {
    "collapsed": false,
    "ExecuteTime": {
     "end_time": "2023-12-03T19:12:01.517306Z",
     "start_time": "2023-12-03T19:12:01.477083Z"
    }
   }
  },
  {
   "cell_type": "code",
   "execution_count": 11,
   "outputs": [],
   "source": [
    "df_non_null.to_csv('../data/data_real_estate_cleaned.csv', index=False)"
   ],
   "metadata": {
    "collapsed": false,
    "ExecuteTime": {
     "end_time": "2023-12-03T19:19:53.851354Z",
     "start_time": "2023-12-03T19:19:53.814676Z"
    }
   }
  },
  {
   "cell_type": "code",
   "execution_count": null,
   "outputs": [],
   "source": [],
   "metadata": {
    "collapsed": false
   }
  }
 ],
 "metadata": {
  "kernelspec": {
   "name": "regression",
   "language": "python",
   "display_name": "regression"
  },
  "language_info": {
   "codemirror_mode": {
    "name": "ipython",
    "version": 2
   },
   "file_extension": ".py",
   "mimetype": "text/x-python",
   "name": "python",
   "nbconvert_exporter": "python",
   "pygments_lexer": "ipython2",
   "version": "2.7.6"
  }
 },
 "nbformat": 4,
 "nbformat_minor": 0
}
